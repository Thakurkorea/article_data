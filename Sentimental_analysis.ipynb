{
  "nbformat": 4,
  "nbformat_minor": 0,
  "metadata": {
    "colab": {
      "provenance": []
    },
    "kernelspec": {
      "name": "python3",
      "display_name": "Python 3"
    },
    "language_info": {
      "name": "python"
    }
  },
  "cells": [
    {
      "cell_type": "markdown",
      "source": [
        "# # Sentimental analysis"
      ],
      "metadata": {
        "id": "EXMobWLlkgUZ"
      }
    },
    {
      "cell_type": "code",
      "source": [
        "import nltk\n",
        "from nltk.sentiment import SentimentIntensityAnalyzer\n",
        "from newspaper import Article\n",
        "\n",
        "# Download the VADER lexicon for sentiment analysis\n",
        "nltk.download('vader_lexicon')\n",
        "\n",
        "# Function to perform sentiment analysis on a given text\n",
        "def analyze_sentiment(text):\n",
        "    sia = SentimentIntensityAnalyzer()\n",
        "    sentiment_score = sia.polarity_scores(text)['compound']\n",
        "\n",
        "    if sentiment_score >= 0.05:\n",
        "        return 'Positive'\n",
        "    elif sentiment_score <= -0.05:\n",
        "        return 'Negative'\n",
        "    else:\n",
        "        return 'Neutral'\n",
        "\n",
        "# Function to analyze sentiment of a newspaper article\n",
        "def analyze_article_sentiment(url):\n",
        "    article = Article(url)\n",
        "    article.download()\n",
        "    article.parse()\n",
        "\n",
        "    title_sentiment = analyze_sentiment(article.title)\n",
        "    text_sentiment = analyze_sentiment(article.text)\n",
        "\n",
        "    return {\n",
        "        'Title': title_sentiment,\n",
        "        'Text': text_sentiment\n",
        "    }\n",
        "\n",
        "# Example usage\n",
        "article_url = \"https://timesofindia.indiatimes.com/life-style/health-fitness/health-news/6-simple-yoga-asanas-that-can-help-relax-your-mind/articleshow/103788433.cms\"\n",
        "sentiment_result = analyze_article_sentiment(article_url)\n",
        "\n",
        "print(f\"Title sentiment: {sentiment_result['Title']}\")\n",
        "print(f\"Text sentiment: {sentiment_result['Text']}\")\n"
      ],
      "metadata": {
        "colab": {
          "base_uri": "https://localhost:8080/"
        },
        "id": "YHbacmcuZWaE",
        "outputId": "6b11a986-8fba-4f1d-cbe5-aac80b914c5c"
      },
      "execution_count": 126,
      "outputs": [
        {
          "output_type": "stream",
          "name": "stderr",
          "text": [
            "[nltk_data] Downloading package vader_lexicon to /root/nltk_data...\n",
            "[nltk_data]   Package vader_lexicon is already up-to-date!\n"
          ]
        },
        {
          "output_type": "stream",
          "name": "stdout",
          "text": [
            "Title sentiment: Positive\n",
            "Text sentiment: Negative\n"
          ]
        }
      ]
    },
    {
      "cell_type": "code",
      "source": [
        "import nltk\n",
        "from nltk.sentiment.vader import SentimentIntensityAnalyzer\n",
        "\n",
        "# Download the VADER lexicon\n",
        "nltk.download('vader_lexicon')\n",
        "\n",
        "def analyze_sentiment(text):\n",
        "    # Initialize the VADER sentiment analyzer\n",
        "    sid = SentimentIntensityAnalyzer()\n",
        "\n",
        "    # Get the sentiment scores\n",
        "    sentiment_scores = sid.polarity_scores(text)\n",
        "\n",
        "    # Determine the sentiment label based on the compound score\n",
        "    if sentiment_scores['compound'] >= 0.05:\n",
        "        return 'Positive'\n",
        "    elif sentiment_scores['compound'] <= -0.05:\n",
        "        return 'Negative'\n",
        "    else:\n",
        "        return 'Neutral'\n",
        "\n",
        "# Example text\n",
        "news_text = \"The stock market down new highs as investors dislike in the economy.\"\n",
        "\n",
        "# Perform sentiment analysis\n",
        "result = analyze_sentiment(news_text)\n",
        "\n",
        "# Print the result\n",
        "print(f\"Sentiment: {result}\")\n"
      ],
      "metadata": {
        "colab": {
          "base_uri": "https://localhost:8080/"
        },
        "id": "7GCpT2i1Zy4s",
        "outputId": "c97e7c55-03e9-42c1-e562-461d69a802ab"
      },
      "execution_count": 124,
      "outputs": [
        {
          "output_type": "stream",
          "name": "stdout",
          "text": [
            "Sentiment: Negative\n"
          ]
        },
        {
          "output_type": "stream",
          "name": "stderr",
          "text": [
            "[nltk_data] Downloading package vader_lexicon to /root/nltk_data...\n",
            "[nltk_data]   Package vader_lexicon is already up-to-date!\n"
          ]
        }
      ]
    },
    {
      "cell_type": "code",
      "source": [
        "!pip install tweepy\n",
        "!pip install nltk\n",
        "!pip install vaderSentiment\n",
        "!pip install facebook-sdk"
      ],
      "metadata": {
        "id": "8lOnQXihdRak"
      },
      "execution_count": null,
      "outputs": []
    },
    {
      "cell_type": "code",
      "source": [
        "import tweepy\n",
        "from nltk.sentiment.vader import SentimentIntensityAnalyzer\n",
        "\n",
        "# Set up Twitter API credentials\n",
        "consumer_key = 'your_consumer_key'\n",
        "consumer_secret = 'your_consumer_secret'\n",
        "access_token = 'your_access_token'\n",
        "access_token_secret = 'your_access_token_secret'\n",
        "\n",
        "# Authenticate with Twitter API\n",
        "auth = tweepy.OAuthHandler(consumer_key, consumer_secret)\n",
        "auth.set_access_token(access_token, access_token_secret)\n",
        "api = tweepy.API(auth)\n",
        "\n",
        "# Download the VADER lexicon\n",
        "nltk.download('vader_lexicon')\n",
        "\n",
        "def analyze_sentiment(text):\n",
        "    sid = SentimentIntensityAnalyzer()\n",
        "    sentiment_scores = sid.polarity_scores(text)\n",
        "\n",
        "    if sentiment_scores['compound'] >= 0.05:\n",
        "        return 'Positive'\n",
        "    elif sentiment_scores['compound'] <= -0.05:\n",
        "        return 'Negative'\n",
        "    else:\n",
        "        return 'Neutral'\n",
        "\n",
        "def analyze_tweets(query, num_tweets=10):\n",
        "    tweets = api.search(q=query, count=num_tweets, lang='en', tweet_mode='extended')\n",
        "\n",
        "    for tweet in tweets:\n",
        "        text = tweet.full_text\n",
        "        sentiment = analyze_sentiment(text)\n",
        "        print(f\"Tweet: {text}\")\n",
        "        print(f\"Sentiment: {sentiment}\\n\")\n",
        "\n",
        "# Example: Analyzing tweets about Python\n",
        "analyze_tweets('Python programming', num_tweets=5)\n"
      ],
      "metadata": {
        "id": "Fj9yVia6dYnu"
      },
      "execution_count": null,
      "outputs": []
    },
    {
      "cell_type": "code",
      "source": [
        "import requests\n",
        "from nltk.sentiment.vader import SentimentIntensityAnalyzer\n",
        "\n",
        "# Facebook Graph API endpoint\n",
        "graph_api_url = \"https://graph.facebook.com/v18.0/\"\n",
        "\n",
        "# Your Facebook Access Token (replace with your own)\n",
        "access_token = \"your_facebook_access_token\"\n",
        "\n",
        "# Download the VADER lexicon\n",
        "nltk.download('vader_lexicon')\n",
        "\n",
        "def analyze_sentiment(text):\n",
        "    sid = SentimentIntensityAnalyzer()\n",
        "    sentiment_scores = sid.polarity_scores(text)\n",
        "\n",
        "    if sentiment_scores['compound'] >= 0.05:\n",
        "        return 'Positive'\n",
        "    elif sentiment_scores['compound'] <= -0.05:\n",
        "        return 'Negative'\n",
        "    else:\n",
        "        return 'Neutral'\n",
        "\n",
        "def get_facebook_posts(page_id, num_posts=5):\n",
        "    # Construct the API endpoint for fetching posts\n",
        "    posts_endpoint = f\"{graph_api_url}{page_id}/posts\"\n",
        "    # base_url = f'https://graph.facebook.com/v18.0/{page_id}/posts'\n",
        "    # params = {'access_token': access_token}\n",
        "\n",
        "    # Parameters for the API request\n",
        "    params = {\n",
        "        'access_token': access_token,\n",
        "        'limit': num_posts,\n",
        "        'fields': 'message'\n",
        "    }\n",
        "\n",
        "    # Make the API request\n",
        "    response = requests.get(posts_endpoint, params=params)\n",
        "    data = response.json()\n",
        "\n",
        "    # Analyze sentiment for each post\n",
        "    for post in data['data']:\n",
        "        text = post.get('message', '')\n",
        "        sentiment = analyze_sentiment(text)\n",
        "        print(f\"Post: {text}\")\n",
        "        print(f\"Sentiment: {sentiment}\\n\")\n",
        "\n",
        "# Example: Analyzing posts from a Facebook page\n",
        "get_facebook_posts('Page_ID', num_posts=5)\n"
      ],
      "metadata": {
        "id": "33nzSSb9doMt"
      },
      "execution_count": 129,
      "outputs": []
    }
  ]
}