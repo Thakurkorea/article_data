{
  "nbformat": 4,
  "nbformat_minor": 0,
  "metadata": {
    "colab": {
      "provenance": []
    },
    "kernelspec": {
      "name": "python3",
      "display_name": "Python 3"
    },
    "language_info": {
      "name": "python"
    }
  },
  "cells": [
    {
      "cell_type": "markdown",
      "source": [
        "# # News paper mining"
      ],
      "metadata": {
        "id": "EXMobWLlkgUZ"
      }
    },
    {
      "cell_type": "code",
      "source": [
        "# pip install newspaper3k"
      ],
      "metadata": {
        "id": "OkhLIj5xkOSw"
      },
      "execution_count": null,
      "outputs": []
    },
    {
      "cell_type": "code",
      "source": [
        "import newspaper\n",
        "from newspaper import Article\n",
        "from newspaper import fulltext\n",
        "import matplotlib.pyplot as plt\n",
        "url='https://timesofindia.indiatimes.com/'\n",
        "# url='https://www.reuters.com/'\n",
        "paper = newspaper.build(url, language=\"en\", memoize_articles=False)\n",
        "\n",
        "#extracting news category\n",
        "for category in paper.category_urls():\n",
        " print(category)"
      ],
      "metadata": {
        "id": "Kwd2RI7Dk1hn"
      },
      "execution_count": null,
      "outputs": []
    },
    {
      "cell_type": "code",
      "execution_count": null,
      "metadata": {
        "id": "__Qn1qrAkMiy"
      },
      "outputs": [],
      "source": [
        "# url = 'https://www.reuters.com/'\n",
        "# paper = newspaper.build(url, language=\"en\", memoize_articles=False)\n",
        "\n",
        "# Extracting news category and counting articles\n",
        "categories_count = {}\n",
        "for article in paper.articles:\n",
        "    for category in paper.category_urls():\n",
        "        if category in article.source_url:\n",
        "            categories_count[category] = categories_count.get(category, 0) + 1\n",
        "\n",
        "# Create a bar chart\n",
        "categories = list(categories_count.keys())\n",
        "article_counts = list(categories_count.values())\n",
        "\n",
        "plt.barh(categories, article_counts, color='skyblue')\n",
        "plt.xlabel('Number of Articles')\n",
        "plt.title('News Categories on Reuters')\n",
        "plt.show()\n"
      ]
    },
    {
      "cell_type": "markdown",
      "source": [
        "# News Aggregation System:"
      ],
      "metadata": {
        "id": "bJoEVbComjOH"
      }
    },
    {
      "cell_type": "code",
      "source": [
        "# import newspaper\n",
        "\n",
        "# # # Define the news source URL\n",
        "# # url = 'https://www.reuters.com/'\n",
        "\n",
        "# Build the newspaper object\n",
        "paper = newspaper.build(url, language='en', memoize_articles=False)\n",
        "\n",
        "# Print the latest headlines\n",
        "for article in paper.articles:\n",
        "    print(article.title)\n"
      ],
      "metadata": {
        "id": "i_mqzZzPmdBv"
      },
      "execution_count": null,
      "outputs": []
    },
    {
      "cell_type": "markdown",
      "source": [
        "This script extracts and prints the latest headlines from the Reuters website."
      ],
      "metadata": {
        "id": "oy5lcAylmhU_"
      }
    },
    {
      "cell_type": "code",
      "source": [
        "import newspaper\n",
        "import time\n",
        "\n",
        "# url = 'https://www.reuters.com/'\n",
        "# paper = newspaper.build(url, language='en', memoize_articles=False)\n",
        "\n",
        "# Keep track of seen articles\n",
        "seen_articles = set()\n",
        "\n",
        "while True:\n",
        "    for article in paper.articles:\n",
        "        if article.url not in seen_articles:\n",
        "            print(f\"New content detected: {article.title}\")\n",
        "            # Send alert or perform other actions\n",
        "            seen_articles.add(article.url)\n",
        "\n",
        "    time.sleep(60)  # Check for updates every 1 minutes\n",
        "\n"
      ],
      "metadata": {
        "id": "uBPebCzSmn3h"
      },
      "execution_count": null,
      "outputs": []
    },
    {
      "cell_type": "code",
      "source": [
        "url"
      ],
      "metadata": {
        "colab": {
          "base_uri": "https://localhost:8080/",
          "height": 36
        },
        "id": "WWs6_c1qUI9c",
        "outputId": "de1afb2c-eff3-4b8c-e0a9-7b0971eaf57d"
      },
      "execution_count": 109,
      "outputs": [
        {
          "output_type": "execute_result",
          "data": {
            "text/plain": [
              "'https://www.reuters.com/'"
            ],
            "application/vnd.google.colaboratory.intrinsic+json": {
              "type": "string"
            }
          },
          "metadata": {},
          "execution_count": 109
        }
      ]
    },
    {
      "cell_type": "markdown",
      "source": [
        "# Newspaper: Article scraping & curation"
      ],
      "metadata": {
        "id": "v4HJGmEaoO0x"
      }
    },
    {
      "cell_type": "markdown",
      "source": [
        "  input code         full name\n",
        "  ar               Arabic\n",
        "  da               Danish\n",
        "  de               German\n",
        "  el               Greek\n",
        "  en               English\n",
        "  it               Italian\n",
        "  zh               Chinese"
      ],
      "metadata": {
        "id": "dIbeNbT0od9w"
      }
    },
    {
      "cell_type": "code",
      "source": [
        "import nltk\n",
        "\n",
        "# Download NLTK data\n",
        "nltk.download('punkt')\n",
        "nltk.download('averaged_perceptron_tagger')\n"
      ],
      "metadata": {
        "colab": {
          "base_uri": "https://localhost:8080/"
        },
        "id": "7X_8Lb1npoBv",
        "outputId": "33a542f1-5574-4341-92d7-6a5d2631e3b1"
      },
      "execution_count": 114,
      "outputs": [
        {
          "output_type": "stream",
          "name": "stderr",
          "text": [
            "[nltk_data] Downloading package punkt to /root/nltk_data...\n",
            "[nltk_data]   Package punkt is already up-to-date!\n",
            "[nltk_data] Downloading package averaged_perceptron_tagger to\n",
            "[nltk_data]     /root/nltk_data...\n",
            "[nltk_data]   Package averaged_perceptron_tagger is already up-to-\n",
            "[nltk_data]       date!\n"
          ]
        },
        {
          "output_type": "execute_result",
          "data": {
            "text/plain": [
              "True"
            ]
          },
          "metadata": {},
          "execution_count": 114
        }
      ]
    },
    {
      "cell_type": "code",
      "source": [
        "from newspaper import Article\n",
        "\n",
        "#A new article from TOI\n",
        "url = 'https://timesofindia.indiatimes.com/world/china/chinese-expert-warns-of-troops-entering-kashmir/articleshow/59516912.cms'\n",
        "\n",
        "#For different language newspaper refer above table\n",
        "toi_article = Article(url, language=\"en\") # en for English\n",
        "\n",
        "#To download the article\n",
        "toi_article.download()\n",
        "\n",
        "#To parse the article\n",
        "toi_article.parse()\n",
        "\n",
        "#To perform natural language processing ie..nlp\n",
        "toi_article.nlp()\n",
        "\n",
        "#To extract title\n",
        "print(\"Article's Title:\")\n",
        "print(toi_article.title)\n",
        "print(\"n\")\n",
        "\n",
        "#To extract text\n",
        "print(\"Article's Text:\")\n",
        "print(toi_article.text)\n",
        "print(\"n\")\n",
        "\n",
        "#To extract summary\n",
        "print(\"Article's Summary:\")\n",
        "print(toi_article.summary)\n",
        "print(\"n\")\n",
        "\n",
        "#To extract keywords\n",
        "print(\"Article's Keywords:\")\n",
        "print(toi_article.keywords)\n"
      ],
      "metadata": {
        "id": "jmNfAKa5oNOQ"
      },
      "execution_count": null,
      "outputs": []
    },
    {
      "cell_type": "code",
      "source": [
        "import requests\n",
        "from bs4 import BeautifulSoup\n",
        "from newspaper import Article\n",
        "\n",
        "# Article URL\n",
        "article_url = 'http://timesofindia.indiatimes.com/world/china/chinese-expert-warns-of-troops-entering-kashmir/articleshow/59516912.cms'\n",
        "toi_article = Article(article_url)\n",
        "\n",
        "# Download and parse the article\n",
        "toi_article.download()\n",
        "toi_article.parse()\n",
        "\n",
        "# Extract the author's name and date using BeautifulSoup\n",
        "soup = BeautifulSoup(toi_article.html, 'html.parser')\n",
        "\n",
        "# Find the div with class \"xf8Pm\"\n",
        "xf8Pm_div = soup.find('div', {'class': 'xf8Pm'})     #div class=\"xf8Pm byline\"><a href=\"https://timesofindia.indiatimes.com/toireporter/author-Saibal-Dasgupta-13399.cms\"\n",
        "\n",
        "# Extract the text content of the div\n",
        "xf8Pm_text = xf8Pm_div.text.strip() if xf8Pm_div else None\n",
        "\n",
        "# Use regular expressions to separate author and date\n",
        "match = re.search(r'([^\\d]+) / Updated: (\\w+\\s\\d+,\\s\\d+), (\\d+:\\d+\\s\\w+)', xf8Pm_text)\n",
        "# # Use regular expressions to separate author and date without including organization\n",
        "# match = re.search(r'([^\\d/]+) / Updated: (\\w+\\s\\d+,\\s\\d+), (\\d+:\\d+\\s\\w+)', xf8Pm_text)\n",
        "\n",
        "if match:\n",
        "    author = match.group(1).strip()\n",
        "    updated_date = match.group(2).strip()\n",
        "    updated_time = match.group(3).strip()\n",
        "\n",
        "    print(\"Author:\", author)\n",
        "    print(\"Updated Date:\", updated_date)\n",
        "    print(\"Updated Time:\", updated_time)\n",
        "else:\n",
        "    print(\"Author and Updated Date not found.\")"
      ],
      "metadata": {
        "colab": {
          "base_uri": "https://localhost:8080/"
        },
        "id": "lqCSP7MkpSCf",
        "outputId": "d2ef146c-2c82-4034-9cfe-59d84ac56ec3"
      },
      "execution_count": 85,
      "outputs": [
        {
          "output_type": "stream",
          "name": "stdout",
          "text": [
            "Author: Saibal Dasgupta / TNN\n",
            "Updated Date: Jul 10, 2017\n",
            "Updated Time: 12:36 IST\n"
          ]
        }
      ]
    },
    {
      "cell_type": "code",
      "source": [
        "match.group(1)"
      ],
      "metadata": {
        "colab": {
          "base_uri": "https://localhost:8080/",
          "height": 36
        },
        "id": "pjZydVnLNNsT",
        "outputId": "c4d1aa8d-e36f-4e83-bd86-bb3ccf03fe6f"
      },
      "execution_count": 90,
      "outputs": [
        {
          "output_type": "execute_result",
          "data": {
            "text/plain": [
              "'Saibal Dasgupta / TNN'"
            ],
            "application/vnd.google.colaboratory.intrinsic+json": {
              "type": "string"
            }
          },
          "metadata": {},
          "execution_count": 90
        }
      ]
    },
    {
      "cell_type": "code",
      "source": [
        "# pip install selenium"
      ],
      "metadata": {
        "id": "PqUan3l6vq3b"
      },
      "execution_count": null,
      "outputs": []
    },
    {
      "cell_type": "code",
      "source": [
        "import urllib.request\n",
        "from bs4 import BeautifulSoup as BS\n",
        "\n",
        "url = 'http://timesofindia.indiatimes.com/world/china/chinese-expert-warns-of-troops-entering-kashmir/articleshow/59516912.cms'\n",
        "\n",
        "# Send a GET request to the article URL\n",
        "response = urllib.request.urlopen(url)\n",
        "\n",
        "# Read the HTML content\n",
        "html = response.read()\n",
        "\n",
        "# Parse the HTML content\n",
        "soup = BS(html, 'html.parser')\n",
        "\n",
        "# Find number of authors\n",
        "author_tags = soup.find_all('span', {'class': 'author'})\n",
        "num_authors = len(author_tags)\n",
        "\n",
        "# Extract author names\n",
        "author_names = [author_tag.text.strip() for author_tag in author_tags]\n",
        "\n",
        "# Find additional authors from frmappuse class\n",
        "frmappuse_tags = soup.find_all('span', {'class': 'frmappuse'})\n",
        "additional_authors = [frmappuse_tag.text.strip() for frmappuse_tag in frmappuse_tags]\n",
        "\n",
        "# Combine the authors from both classes\n",
        "all_authors = author_names + additional_authors\n",
        "\n",
        "# Print the number of authors and their names\n",
        "print(\"Number of Authors:\", num_authors)\n",
        "print(\"Author Names:\", all_authors)\n",
        "\n"
      ],
      "metadata": {
        "id": "tf2X0SJavn6R"
      },
      "execution_count": null,
      "outputs": []
    },
    {
      "cell_type": "code",
      "source": [],
      "metadata": {
        "id": "l3B_6iGZQyEF"
      },
      "execution_count": null,
      "outputs": []
    },
    {
      "cell_type": "code",
      "source": [
        "import urllib.request\n",
        "from bs4 import BeautifulSoup as BS\n",
        "\n",
        "url = 'http://timesofindia.indiatimes.com/world/china/chinese-expert-warns-of-troops-entering-kashmir/articleshow/59516912.cms'\n",
        "\n",
        "# Send a GET request to the article URL\n",
        "response = urllib.request.urlopen(url)\n",
        "\n",
        "# Read the HTML content\n",
        "html = response.read()\n",
        "\n",
        "# Parse the HTML content\n",
        "soup = BS(html, 'html.parser')\n",
        "\n",
        "# Find all anchor tags and get the text\n",
        "all_links_text = [a.get_text(strip=True) for a in soup.find_all('a')]\n",
        "\n",
        "# Print the text of all anchor tags\n",
        "print(\"Text of all anchor tags:\", all_links_text)\n"
      ],
      "metadata": {
        "colab": {
          "base_uri": "https://localhost:8080/"
        },
        "id": "TA55UDiQE652",
        "outputId": "1cf8d39b-cc16-4dd7-dc0b-9b66b0f14160"
      },
      "execution_count": 52,
      "outputs": [
        {
          "output_type": "stream",
          "name": "stdout",
          "text": [
            "Text of all anchor tags: ['IN', 'US', '', 'TOI', 'world', 'China', 'US', 'Pakistan', 'South Asia', 'UK', 'Europe', 'Middle East', 'Rest of World', 'Mad, Mad World', 'Photos', 'Videos', 'Web Stories', 'News', 'World News', 'China News', 'Israel Hamas War', 'Greta Thunberg', 'US H1b Visa', 'Bangladesh Train Accident', 'Giorgia Meloni', 'Imran Cipher Case', 'He Jinbi Missing', 'Israel Hamas War', 'Greta Thunberg', 'US H1b Visa', 'Bangladesh Train Accident', 'Giorgia Meloni', 'Imran Cipher Case', 'He Jinbi Missing', 'Israel Hamas War', 'Greta Thunberg', 'US H1b Visa', 'Bangladesh Train Accident', 'Giorgia Meloni', 'Imran Cipher Case', 'He Jinbi Missing', 'Saibal Dasgupta', '', 'Follow us', 'Chinese expert warns of troops entering Kashmir', 'Tech on the rise in India! Here’s how the MIT xPRO program can help managers and leaders keep up with this tech revolution', 'China trying to create confusion before elections in Bhutan, building its soft power in the kingdom, say experts', 'China issues safety advisory for its citizens in India', 'Kashmir', 'Bhutan', 'sending its troops to the disputed Doklam area', 'Sikkim', 'puts Indian territory at risk', 'Pakistan-Occupied Kashmir', 'Read this story in Gujarati', 'Global Times', 'UN Security Council', 'Donald Trump', 'Read this story in Malayalam', 'Read this story in Bengali', 'Read this story in Telugu', 'Read this story in Tamil', 'WatchChinese expert warns of troops entering Kashmir', 'Saibal Dasgupta', 'Why are potatoes and tomatoes banned in Lord Jagannath’s kitchen?india', 'Types of cotton saris every Indian woman should ownindia', 'Drinks to lower blood pressureFood', 'Fitness tips from Sara Tendulkar you can followindia', '10 paneer dishes for weight lossFood', '\\u200bWholesome bites to boost healthy weight in kids\\u200bindia', 'Kadhi dishes of IndiaFood', 'Slay it like Shehnaaz Gill in sarees this Navratriindia', '\\u200bTraits you only see in the elder daughter of the family\\u200bindia', '7 Yoga asanas that can be practiced in bedindia', 'Assembly Elections 2023', 'Telangana Election 2023 Date', 'Mizoram Election Dates', 'Madhya Pradesh Elections', 'Rajasthan Election Date 2023', 'Chhattisgarh Election Dates', 'Israel Hamas War News', 'South Africa vs Bangladesh Live Score', 'Cyclone Hamoon', 'Gaganyaan Test Flight Video', 'Asian Para Games 2023 Live Updates', 'IAF Air Marshal', 'Live: Cong releases list of 39 candidates for Mizoram assembly polls', 'Pics | Mum-Ngp eway deaths: What causing these accidents?', '\\u200bPics | A lot can happen over Koraput coffee', 'India among 4 big economies set to meet Paris climate goals', 'Sell your tech to us, Nasa said: Isro chief', 'Amid Nijjar row, Canada Speaker to skip P20 Summit', 'Canada-India visa impasse puts flyers with tickets in fix', 'Manipur bars circulation of videos & photos of violence', 'Stalker stabs woman 13 times in cab in Delhi', \"Supreme Court on plea to abort: We can't kill child in womb\", \"Another shake-up: Now, China sacks 'missing' defence minister, appoints new finance minister\", 'Live: PM in Dussehra speech urges people to take 10 pledges', \"How BJP's attempts to sideline Vasundhara failed\", 'Live: Israel escalates bombardment of targets in Gaza', 'Miscreants thrash man, gangrape his wife in Odisha', \"SA vs BAN Live: Marco Jansen dents Bangladesh's run chase\", \"Why BJP's campaigns to win over Muslims are failing\", 'Amazon ‘kills’ passwords, adopts passkeys: What it means for users', 'After 53 net searches, man poisons 2 sisters over prop row', 'TikTok wants to be more like YouTube, here’s how', '', 'About us', 'Create Your Own Ad', 'Terms of Use and Grievance Redressal Policy', 'Privacy policy', 'Advertise with us', 'RSS', 'Newsletter', 'Feedback', 'ePaper', 'Sitemap', 'Archives', '', '', '', '', '', '', '', '', 'The Economic Times', 'Hindi Economic Times', 'Navbharat Times', 'Maharashtra Times', 'Vijaya Karnataka', 'Telugu Samayam', 'Tamil Samayam', 'Malayalam Samayam', 'Ei Samay', 'I am Gujarat', 'Times Now', 'Times Now Navbharat', 'TimesPoints', 'Indiatimes', 'Brand Capital', 'Education Times', 'Times Food', 'Miss Kyra', 'Headlines', 'Sports News', 'Business News', 'India News', 'World News', 'Bollywood News', 'Health & Fitness Tips', 'Indian TV Shows', 'Celebrity Photos', 'Leo Collection', 'Parag Desai', 'Happy Dussehra 2023', 'Good Morning Quotes', 'Leo Movie', 'Bhagavanth Kesari Movie Review', 'Yaariyan 2 Movie Review', 'Career Horoscope', 'Tania', 'Priyanka Chopra', 'Israel Hamas War News', 'South Africa vs Bangladesh Live Score', 'Cyclone Hamoon', 'Gaganyaan Test Flight Video', 'Asian Para Games 2023 Live Updates', 'IAF Air Marshal', 'Ayodhya Ram Mandir', 'Assembly Elections 2023', 'Canada Visa', 'Best Tourism Village', 'Bihar Durga Puja Stampede', 'ICC World Cup 2023 Points Table', 'Chhattisgarh Election Dates', 'Telangana Election Date 2023', 'Madhy Pradesh Election Date 2023', 'Rajasthan Election Date 2023', 'ICC ODI World Cup 2023', 'ICC World Cup Schedule 2023', 'Parineeti Chopra', 'Karan Veer Mehra', 'Dussehra Wishes', 'Malaika Arora', 'Career Horoscope', 'Pankaj Tripathi', 'Benefits Of Eating Clean', 'Anushka Sharma', 'Bigg Boss 17 Contestant List', 'Parenting Tips', 'Kidney Stone', 'Leo Showtimes', 'Kaala Paani Review', 'Trisha Krishnan', 'Pankaj Tripathi', 'Saba Azad', 'Vivo Y55s', 'Laptops under 30000', 'WiFi Routers', 'Tablets under 15000', 'Viral News', 'Viral Videos', 'Femina', 'ETimes', 'Grazia', 'Zoom', 'Travel Destinations', 'Bombay Times', 'Cricbuzz.com', 'Filmfare', 'TV', 'Lifestyle', 'Longwalks App', 'Newspaper Subscription', 'Food News', 'Times Prime', 'Whats Hot', 'CouponDunia', 'Magicbricks', 'TechGig', 'TimesJobs', 'Bollywood News', 'Times Mobile', 'Gadgets Now', 'Careers', 'Colombia']\n"
          ]
        }
      ]
    },
    {
      "cell_type": "code",
      "source": [
        "# Find all anchor tags and extract the href attributes\n",
        "href_links = [a['href'] for a in soup.find_all('a', href=True)]\n",
        "\n",
        "# Print the href links\n",
        "print(\"Href Links:\")\n",
        "for link in href_links:\n",
        "    print(link)"
      ],
      "metadata": {
        "id": "auubwdvLHmUT"
      },
      "execution_count": null,
      "outputs": []
    },
    {
      "cell_type": "code",
      "source": [
        "import urllib.request\n",
        "from bs4 import BeautifulSoup as BS\n",
        "\n",
        "url = 'http://timesofindia.indiatimes.com/world/china/chinese-expert-warns-of-troops-entering-kashmir/articleshow/59516912.cms'\n",
        "\n",
        "# Send a GET request to the article URL\n",
        "response = urllib.request.urlopen(url)\n",
        "\n",
        "# Read the HTML content\n",
        "html = response.read()\n",
        "\n",
        "# Parse the HTML content\n",
        "soup = BS(html, 'html.parser')\n",
        "\n",
        "# Find the div with class \"xf8Pm\"\n",
        "xf8Pm_div = soup.find('div', {'class': 'xf8Pm'})     #div class=\"xf8Pm byline\"><a href=\"https://timesofindia.indiatimes.com/toireporter/author-Saibal-Dasgupta-13399.cms\"\n",
        "\n",
        "# Extract the text content of the div\n",
        "xf8Pm_text = xf8Pm_div.text.strip() if xf8Pm_div else None\n",
        "\n",
        "# Print the content of the div\n",
        "print(\"Content of div with class 'xf8Pm':\")\n",
        "print(xf8Pm_text)\n"
      ],
      "metadata": {
        "colab": {
          "base_uri": "https://localhost:8080/"
        },
        "id": "LSVvZrg9MG0F",
        "outputId": "b0700aca-77d8-4231-f5b7-894d7ed51590"
      },
      "execution_count": 94,
      "outputs": [
        {
          "output_type": "stream",
          "name": "stdout",
          "text": [
            "Author not found in the content.\n"
          ]
        }
      ]
    },
    {
      "cell_type": "code",
      "source": [
        "import urllib.request\n",
        "from bs4 import BeautifulSoup as BS\n",
        "import re\n",
        "\n",
        "url = 'http://timesofindia.indiatimes.com/world/china/chinese-expert-warns-of-troops-entering-kashmir/articleshow/59516912.cms'\n",
        "\n",
        "# Send a GET request to the article URL\n",
        "response = urllib.request.urlopen(url)\n",
        "\n",
        "# Read the HTML content\n",
        "html = response.read()\n",
        "\n",
        "# Parse the HTML content\n",
        "soup = BS(html, 'html.parser')\n",
        "\n",
        "# Find div elements\n",
        "div_elements = soup.find_all('div')\n",
        "\n",
        "# Find span elements\n",
        "span_elements = soup.find_all('span')\n",
        "\n",
        "# Search for specific content in div elements\n",
        "for div_element in div_elements:\n",
        "    if \"div search\" in div_element.text:\n",
        "        print(\"Found 'div search' in div element:\", div_element.text.strip())\n",
        "\n",
        "# Search for specific content in span elements\n",
        "for span_element in span_elements:\n",
        "    if \"span search\" in span_element.text:\n",
        "        print(\"Found 'span search' in span element:\", span_element.text.strip())\n"
      ],
      "metadata": {
        "id": "h3I8N9_PRtb1"
      },
      "execution_count": 97,
      "outputs": []
    }
  ]
}